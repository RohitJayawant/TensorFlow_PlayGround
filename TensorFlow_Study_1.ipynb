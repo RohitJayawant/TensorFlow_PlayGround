{
  "nbformat": 4,
  "nbformat_minor": 0,
  "metadata": {
    "colab": {
      "provenance": [],
      "authorship_tag": "ABX9TyNzIQWr1sDzB3UVREvsq9fs",
      "include_colab_link": true
    },
    "kernelspec": {
      "name": "python3",
      "display_name": "Python 3"
    },
    "language_info": {
      "name": "python"
    }
  },
  "cells": [
    {
      "cell_type": "markdown",
      "metadata": {
        "id": "view-in-github",
        "colab_type": "text"
      },
      "source": [
        "<a href=\"https://colab.research.google.com/github/RohitJayawant/TensorFlow_PlayGround/blob/main/TensorFlow_Study_1.ipynb\" target=\"_parent\"><img src=\"https://colab.research.google.com/assets/colab-badge.svg\" alt=\"Open In Colab\"/></a>"
      ]
    },
    {
      "cell_type": "code",
      "execution_count": 2,
      "metadata": {
        "colab": {
          "base_uri": "https://localhost:8080/",
          "height": 36
        },
        "id": "JRvBHSEhHGri",
        "outputId": "e56dc682-246a-4674-a793-4a627b207850"
      },
      "outputs": [
        {
          "output_type": "execute_result",
          "data": {
            "text/plain": [
              "'2.18.0'"
            ],
            "application/vnd.google.colaboratory.intrinsic+json": {
              "type": "string"
            }
          },
          "metadata": {},
          "execution_count": 2
        }
      ],
      "source": [
        "# prompt: tensoflow version\n",
        "\n",
        "import tensorflow as tf\n",
        "tf.__version__\n"
      ]
    },
    {
      "cell_type": "code",
      "source": [
        "tensor = tf.constant([[[1, 2, 3], [4, 5, 6]], [[7, 8, 9], [10, 11, 12]]])\n",
        "\n",
        "# Get the shape of the tensor\n",
        "shape = tensor.shape\n",
        "\n",
        "# Get the length of the first dimension\n",
        "dim1_length = shape[0]\n",
        "\n",
        "# Get the length of the second dimension\n",
        "dim2_length = shape[1]\n",
        "\n",
        "# Get the length of the third dimension\n",
        "dim3_length = shape[2]\n",
        "\n",
        "print('Tensor rank(dimensions):', tf.rank(tensor).numpy())\n",
        "print('Tensor size:', tf.size(tensor).numpy())\n",
        "print('Tensor shape:', shape)\n",
        "print('Length of first dimension:', dim1_length)\n",
        "print('Length of second dimension:', dim2_length)\n",
        "print('Length of third dimension:', dim3_length)"
      ],
      "metadata": {
        "colab": {
          "base_uri": "https://localhost:8080/"
        },
        "id": "C9baAWY1HoXI",
        "outputId": "b86daa28-cb39-4445-f781-2a8f147063b4"
      },
      "execution_count": 19,
      "outputs": [
        {
          "output_type": "stream",
          "name": "stdout",
          "text": [
            "Tensor rank(dimensions): 3\n",
            "Tensor size: 12\n",
            "Tensor shape: (2, 2, 3)\n",
            "Length of first dimension: 2\n",
            "Length of second dimension: 2\n",
            "Length of third dimension: 3\n"
          ]
        }
      ]
    },
    {
      "cell_type": "code",
      "source": [
        "@tf.function\n",
        "def add(a, b):\n",
        "    return a + b\n",
        "\n",
        "result = add(tf.constant(3), tf.constant(5))\n",
        "print(result)"
      ],
      "metadata": {
        "colab": {
          "base_uri": "https://localhost:8080/"
        },
        "id": "VHOQWhvCxIQj",
        "outputId": "d3185cf4-9f47-43aa-9dbf-4d55f130512e"
      },
      "execution_count": 3,
      "outputs": [
        {
          "output_type": "stream",
          "name": "stdout",
          "text": [
            "tf.Tensor(8, shape=(), dtype=int32)\n"
          ]
        }
      ]
    }
  ]
}