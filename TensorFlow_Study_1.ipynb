{
  "nbformat": 4,
  "nbformat_minor": 0,
  "metadata": {
    "colab": {
      "provenance": [],
      "authorship_tag": "ABX9TyP22NjAvNHVrlGurYA3Aio+",
      "include_colab_link": true
    },
    "kernelspec": {
      "name": "python3",
      "display_name": "Python 3"
    },
    "language_info": {
      "name": "python"
    }
  },
  "cells": [
    {
      "cell_type": "markdown",
      "metadata": {
        "id": "view-in-github",
        "colab_type": "text"
      },
      "source": [
        "<a href=\"https://colab.research.google.com/github/RohitJayawant/TensorFlow_PlayGround/blob/main/TensorFlow_Study_1.ipynb\" target=\"_parent\"><img src=\"https://colab.research.google.com/assets/colab-badge.svg\" alt=\"Open In Colab\"/></a>"
      ]
    },
    {
      "cell_type": "code",
      "execution_count": null,
      "metadata": {
        "colab": {
          "base_uri": "https://localhost:8080/",
          "height": 36
        },
        "id": "JRvBHSEhHGri",
        "outputId": "3904da3d-f766-4635-dd8f-2a4bacc5858d"
      },
      "outputs": [
        {
          "output_type": "execute_result",
          "data": {
            "text/plain": [
              "'2.18.0'"
            ],
            "application/vnd.google.colaboratory.intrinsic+json": {
              "type": "string"
            }
          },
          "metadata": {},
          "execution_count": 1
        }
      ],
      "source": [
        "# prompt: tensoflow version\n",
        "\n",
        "import tensorflow as tf\n",
        "tf.__version__\n"
      ]
    },
    {
      "cell_type": "code",
      "source": [
        "tensor = tf.constant([[1, 2, 3], [4, 5, 6]])\n",
        "shape = tensor.shape\n",
        "\n",
        "# Get the length of the first dimension\n",
        "dim1_length = shape[0]\n",
        "\n",
        "# Get the length of the second dimension\n",
        "dim2_length = shape[1]\n",
        "\n",
        "print('Tensor rank:', tf.rank(tensor).numpy())\n",
        "print('Tensor shape:', shape)\n",
        "print('Length of first dimension:', dim1_length)\n",
        "print('Length of second dimension:', dim2_length)"
      ],
      "metadata": {
        "colab": {
          "base_uri": "https://localhost:8080/"
        },
        "id": "C9baAWY1HoXI",
        "outputId": "590b387f-2260-41d9-bb0e-22d82c73a13a"
      },
      "execution_count": null,
      "outputs": [
        {
          "output_type": "stream",
          "name": "stdout",
          "text": [
            "Tensor rank: 2\n",
            "Tensor shape: (2, 3)\n",
            "Length of first dimension: 2\n",
            "Length of second dimension: 3\n"
          ]
        }
      ]
    }
  ]
}